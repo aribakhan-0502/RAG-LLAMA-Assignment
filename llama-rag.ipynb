{
 "cells": [
  {
   "cell_type": "markdown",
   "metadata": {},
   "source": [
    "#### Importing All Necessary Libraries"
   ]
  },
  {
   "cell_type": "code",
   "execution_count": 58,
   "metadata": {},
   "outputs": [],
   "source": [
    "import os\n",
    "from langchain.vectorstores import Chroma\n",
    "from langchain_community.document_loaders import UnstructuredPDFLoader\n",
    "from langchain_core.output_parsers import StrOutputParser\n",
    "from langchain_core.runnables import RunnablePassthrough\n",
    "from langchain_community.embeddings import OllamaEmbeddings\n",
    "from langchain_text_splitters import RecursiveCharacterTextSplitter\n",
    "from langchain_ollama.chat_models import ChatOllama\n",
    "from langchain.prompts import ChatPromptTemplate, PromptTemplate\n",
    "from langchain.retrievers.multi_query import MultiQueryRetriever\n",
    "from langchain_community.retrievers import BM25Retriever\n",
    "from langchain.retrievers import EnsembleRetriever"
   ]
  },
  {
   "cell_type": "markdown",
   "metadata": {},
   "source": [
    "#### Data Ingestion"
   ]
  },
  {
   "cell_type": "markdown",
   "metadata": {},
   "source": [
    "*Loading All Text Documents*"
   ]
  },
  {
   "cell_type": "code",
   "execution_count": 19,
   "metadata": {},
   "outputs": [
    {
     "name": "stdout",
     "output_type": "stream",
     "text": [
      "Loading file: 2012.pdf\n",
      "Loading file: 2023.pdf\n",
      "Loading file: alternative_med.pdf\n",
      "Loading file: DRAP-2012-_As-Amended-till-Feb-2022.pdf\n",
      "Loading file: DRAP-Regulatory-Fee-30.08.2024.pdf\n",
      "Loading file: Drug-Pricing-Policy-2018-Amended-upto-12.07.2023-2.pdf\n",
      "Loading file: DrugRules.pdf\n",
      "Loading file: DRUGS (LICENSING, REGISTERING AND ADVERTISING) .pdf\n",
      "Loading file: Drugs-Import-Export-Rules-1976.pdf\n",
      "Loading file: DrugsFederalInspectorsLabs.pdf\n",
      "Loading file: drugspecificationrules.pdf\n",
      "Loading file: ethical marketin.pdf\n",
      "Loading file: GMPInspectionCommitteeAppealRegulations2017.pdf\n",
      "Loading file: guidelines.pdf\n",
      "Loading file: labelling.pdf\n",
      "Loading file: penaties and offences.pdf\n",
      "Loading file: Punjab-Drug-Sale-Rules.pdf\n",
      "Loading file: Schedules of medicine.pdf\n",
      "Loading file: The-Drugs-_Research_-Rules-1978.pdf\n"
     ]
    }
   ],
   "source": [
    "directory_path = 'c:/Users/Admin/Desktop/RAG Project/data'\n",
    "\n",
    "docs = []\n",
    "\n",
    "for filename in os.listdir(directory_path):\n",
    "    if filename.endswith(\".pdf\"):\n",
    "        file_path = os.path.join(directory_path, filename)\n",
    "        print(f\"Loading file: {filename}\")  # Print the name of each file being loaded\n",
    "        loader = UnstructuredPDFLoader(file_path = file_path)\n",
    "        data = loader.load()\n",
    "        docs.extend(data)  # Append the data from each file to the 'docs' list"
   ]
  },
  {
   "cell_type": "markdown",
   "metadata": {},
   "source": [
    "*Chunking*"
   ]
  },
  {
   "cell_type": "code",
   "execution_count": 20,
   "metadata": {},
   "outputs": [],
   "source": [
    "text_splitter = RecursiveCharacterTextSplitter(chunk_size = 2800, chunk_overlap = 300)\n",
    "chunks = text_splitter.split_documents(docs)"
   ]
  },
  {
   "cell_type": "code",
   "execution_count": 21,
   "metadata": {},
   "outputs": [
    {
     "data": {
      "text/plain": [
       "1334"
      ]
     },
     "execution_count": 21,
     "metadata": {},
     "output_type": "execute_result"
    }
   ],
   "source": [
    "len(chunks)"
   ]
  },
  {
   "cell_type": "markdown",
   "metadata": {},
   "source": [
    "*Vector Embeddings*"
   ]
  },
  {
   "cell_type": "code",
   "execution_count": null,
   "metadata": {},
   "outputs": [],
   "source": [
    "persist_directory = 'chroma/drap-embeddings'\n",
    "embedding_function = OllamaEmbeddings(model = \"nomic-embed-text\", show_progress = True)"
   ]
  },
  {
   "cell_type": "code",
   "execution_count": 35,
   "metadata": {},
   "outputs": [
    {
     "name": "stderr",
     "output_type": "stream",
     "text": [
      "OllamaEmbeddings: 100%|██████████| 1334/1334 [4:29:13<00:00, 12.11s/it]  \n"
     ]
    }
   ],
   "source": [
    "vector_db = Chroma.from_documents(\n",
    "    documents = chunks, \n",
    "    embedding = embedding_function,\n",
    "    collection_name = \"drap-embeddings\",\n",
    "    persist_directory = persist_directory\n",
    ")"
   ]
  },
  {
   "cell_type": "code",
   "execution_count": 36,
   "metadata": {},
   "outputs": [
    {
     "name": "stderr",
     "output_type": "stream",
     "text": [
      "C:\\Users\\Admin\\AppData\\Local\\Temp\\ipykernel_14992\\2766552738.py:1: LangChainDeprecationWarning: Since Chroma 0.4.x the manual persistence method is no longer supported as docs are automatically persisted.\n",
      "  vector_db.persist()\n"
     ]
    }
   ],
   "source": [
    "vector_db.persist()"
   ]
  },
  {
   "cell_type": "code",
   "execution_count": 37,
   "metadata": {},
   "outputs": [
    {
     "name": "stdout",
     "output_type": "stream",
     "text": [
      "1334\n"
     ]
    }
   ],
   "source": [
    "print(vector_db._collection.count())"
   ]
  },
  {
   "cell_type": "markdown",
   "metadata": {},
   "source": [
    "#### Retrieval"
   ]
  },
  {
   "cell_type": "markdown",
   "metadata": {},
   "source": [
    "*LLM - LLAMA 3.2 (from Ollama)*"
   ]
  },
  {
   "cell_type": "code",
   "execution_count": 38,
   "metadata": {},
   "outputs": [],
   "source": [
    "local_model = \"llama3.2\"\n",
    "llm = ChatOllama(model = local_model)"
   ]
  },
  {
   "cell_type": "markdown",
   "metadata": {},
   "source": [
    "*Building a Retriever (Chroma Retriever)*"
   ]
  },
  {
   "cell_type": "code",
   "execution_count": null,
   "metadata": {},
   "outputs": [],
   "source": [
    "QUERY_PROMPT = PromptTemplate(\n",
    "    input_variables = [\"question\"],\n",
    "    template = \"\"\"\n",
    "    Generate 2 different versions of the given user question to retrieve relevant documents from a vector database.\n",
    "    Provide these alternative questions separated by newlines.\n",
    "    \n",
    "    Original question: {question}\n",
    "    \"\"\",\n",
    ")"
   ]
  },
  {
   "cell_type": "code",
   "execution_count": 68,
   "metadata": {},
   "outputs": [],
   "source": [
    "retriever = MultiQueryRetriever.from_llm(\n",
    "    vector_db.as_retriever(), \n",
    "    llm,\n",
    "    prompt = QUERY_PROMPT\n",
    ")\n",
    "\n",
    "# RAG prompt\n",
    "template = \"\"\"\n",
    "The user has queries regarding the Drug Regulatory Authority regulations and guidelines. You are an AI assistant who is responsible for answering any questions the user might have from a legal perspective or just for knowledge purposes too.\n",
    "If they ask for advice, then give advice. If they ask for a list of things, then provide a list. If they want to know how certain things are done then understand the context and answer appropriately.\n",
    "Answer the question professionally and as efficiently as possible based ONLY on the following context and give a reference from the document you cite your answer from:\n",
    "{context}\n",
    "\n",
    "Question: {question}\n",
    "\"\"\"\n",
    "\n",
    "prompt = ChatPromptTemplate.from_template(template)"
   ]
  },
  {
   "cell_type": "markdown",
   "metadata": {},
   "source": [
    "#### Generation"
   ]
  },
  {
   "cell_type": "markdown",
   "metadata": {},
   "source": [
    "*Building a Chained Pipeline*"
   ]
  },
  {
   "cell_type": "code",
   "execution_count": 70,
   "metadata": {},
   "outputs": [],
   "source": [
    "chain = (\n",
    "    {\"context\": retriever, \"question\": RunnablePassthrough()}\n",
    "    | prompt\n",
    "    | llm\n",
    "    | StrOutputParser()\n",
    ")"
   ]
  },
  {
   "cell_type": "code",
   "execution_count": 43,
   "metadata": {},
   "outputs": [],
   "source": [
    "def chat(question):\n",
    "    response = chain.invoke(question)\n",
    "    return response"
   ]
  },
  {
   "cell_type": "markdown",
   "metadata": {},
   "source": [
    "#### Example Question-Answering"
   ]
  },
  {
   "cell_type": "markdown",
   "metadata": {},
   "source": [
    "*Question 1*"
   ]
  },
  {
   "cell_type": "code",
   "execution_count": 71,
   "metadata": {},
   "outputs": [
    {
     "name": "stderr",
     "output_type": "stream",
     "text": [
      "OllamaEmbeddings: 100%|██████████| 1/1 [00:04<00:00,  4.84s/it]\n",
      "OllamaEmbeddings: 100%|██████████| 1/1 [00:02<00:00,  2.84s/it]\n",
      "OllamaEmbeddings: 100%|██████████| 1/1 [00:02<00:00,  2.93s/it]\n"
     ]
    },
    {
     "data": {
      "text/plain": [
       "\"The text does not explicitly state the specific legal consequences for obstructing an officer during an investigation. However, based on the information provided in the document (Section 29 of The Drugs Act 1976), it can be inferred that obstruction of an inspector or other authority may result in punishment with imprisonment for a term not exceeding one year, or with fine not exceeding one lakh rupees, or both.\\n\\nHowever, to provide more specific guidance, I'll need to refer to the Code of Criminal Procedure, 1898 (Act V of 1898), which mentions that an offence punishable under Schedule-III other than an offence mentioned in clause (1) of that Schedule shall be non-cognizable.\\n\\nIt's also worth noting that the penalties and consequences mentioned in Section 29 are for contraventions under The Drugs Act 1976, and not specifically for obstructing an officer during an investigation. Therefore, it would be best to consult with a legal professional or a relevant authority for more specific guidance on this matter.\""
      ]
     },
     "execution_count": 71,
     "metadata": {},
     "output_type": "execute_result"
    }
   ],
   "source": [
    "chat(\"What are the legal consequences for obstructing an officer during an investigation?\")"
   ]
  },
  {
   "cell_type": "markdown",
   "metadata": {},
   "source": [
    "The text does not explicitly state the specific legal consequences for obstructing an officer during an investigation. However, based on the information provided in the document (Section 29 of The Drugs Act 1976), it can be inferred that obstruction of an inspector or other authority may result in punishment with imprisonment for a term not exceeding one year, or with fine not exceeding one lakh rupees, or both.\n",
    "\n",
    "However, to provide more specific guidance, I'll need to refer to the Code of Criminal Procedure, 1898 (Act V of 1898), which mentions that an offence punishable under Schedule-III other than an offence mentioned in clause (1) of that Schedule shall be non-cognizable.\n",
    "\n",
    "It's also worth noting that the penalties and consequences mentioned in Section 29 are for contraventions under The Drugs Act 1976, and not specifically for obstructing an officer during an investigation. Therefore, it would be best to consult with a legal professional or a relevant authority for more specific guidance on this matter."
   ]
  },
  {
   "cell_type": "markdown",
   "metadata": {},
   "source": [
    "*Question 2*"
   ]
  },
  {
   "cell_type": "code",
   "execution_count": 72,
   "metadata": {},
   "outputs": [
    {
     "name": "stderr",
     "output_type": "stream",
     "text": [
      "OllamaEmbeddings: 100%|██████████| 1/1 [00:04<00:00,  4.45s/it]\n",
      "OllamaEmbeddings: 100%|██████████| 1/1 [00:02<00:00,  3.00s/it]\n",
      "OllamaEmbeddings: 100%|██████████| 1/1 [00:02<00:00,  2.43s/it]\n"
     ]
    },
    {
     "data": {
      "text/plain": [
       "'The penalty for exporting, importing, manufacturing, or selling spurious or unregistered drugs in Pakistan can be taken under the Drug Regulatory Authority of Pakistan Act 2012.\\n\\nAs per the act, there are severe penalties and legal consequences for those involved in such activities. These include:\\n\\n*   Imprisonment \\n*   Fine\\n*   Seizure of goods'"
      ]
     },
     "execution_count": 72,
     "metadata": {},
     "output_type": "execute_result"
    }
   ],
   "source": [
    "chat(\"What is the penalty for exporting, importing, manufacturing, or selling spurious or unregistered drugs?\")"
   ]
  },
  {
   "cell_type": "markdown",
   "metadata": {},
   "source": [
    "The penalty for exporting, importing, manufacturing, or selling spurious or unregistered drugs in Pakistan can be taken under the Drug Regulatory Authority of Pakistan Act 2012.\n",
    "\n",
    "As per the act, there are severe penalties and legal consequences for those involved in such activities. These include:\n",
    "*   Imprisonment\n",
    "*   Fine\n",
    "*   Seizure of goods"
   ]
  },
  {
   "cell_type": "markdown",
   "metadata": {},
   "source": [
    "*Question 3*"
   ]
  },
  {
   "cell_type": "code",
   "execution_count": 73,
   "metadata": {},
   "outputs": [
    {
     "name": "stderr",
     "output_type": "stream",
     "text": [
      "OllamaEmbeddings: 100%|██████████| 1/1 [00:02<00:00,  2.70s/it]\n",
      "OllamaEmbeddings: 100%|██████████| 1/1 [00:02<00:00,  2.54s/it]\n",
      "OllamaEmbeddings: 100%|██████████| 1/1 [00:02<00:00,  2.46s/it]\n"
     ]
    },
    {
     "data": {
      "text/plain": [
       "'According to the text, there is no specific list of drugs that are explicitly mentioned as being restricted to sale only with a prescription from a registered medical practitioner.\\n\\nHowever, it can be inferred that \"special medicinal products\" such as:\\n\\n* Dietary supplements\\n* Nutraceuticals\\n* Cosmeceuticals\\n* Contrast/dyes\\n* Radiopharmaceuticals\\n* Surgical devices\\n* Implants\\n* Alternative therapies\\n\\nare regulated by specific policies and procedures, and their use may require a prescription or authorization from a registered medical practitioner.\\n\\nAdditionally, the text mentions that there are \"policies and procedures\" for the procurement, control, and use of these special medicinal products, which suggests that they may be subject to certain restrictions or requirements.'"
      ]
     },
     "execution_count": 73,
     "metadata": {},
     "output_type": "execute_result"
    }
   ],
   "source": [
    "chat(\"Which drugs are restricted to sale only with a prescription from a registered medical practitioner?\")"
   ]
  },
  {
   "cell_type": "markdown",
   "metadata": {},
   "source": [
    "According to the text, there is no specific list of drugs that are explicitly mentioned as being restricted to sale only with a prescription from a registered medical practitioner.\n",
    "\n",
    "However, it can be inferred that \"special medicinal products\" such as:\n",
    "\n",
    "* Dietary supplements\n",
    "* Nutraceuticals\\n* Cosmeceuticals\n",
    "* Contrast/dyes\n",
    "* Radiopharmaceuticals\n",
    "* Surgical devices\n",
    "* Implants\n",
    "* Alternative therapies are regulated by specific policies and procedures, and their use may require a prescription or authorization from a registered medical practitioner.\n",
    "\n",
    "Additionally, the text mentions that there are \"policies and procedures\" for the procurement, control, and use of these special medicinal products, which suggests that they may be subject to certain restrictions or requirements."
   ]
  },
  {
   "cell_type": "markdown",
   "metadata": {},
   "source": [
    "*Question 4*"
   ]
  },
  {
   "cell_type": "code",
   "execution_count": 74,
   "metadata": {},
   "outputs": [
    {
     "name": "stderr",
     "output_type": "stream",
     "text": [
      "OllamaEmbeddings: 100%|██████████| 1/1 [00:02<00:00,  2.47s/it]\n",
      "OllamaEmbeddings: 100%|██████████| 1/1 [00:02<00:00,  2.98s/it]\n",
      "OllamaEmbeddings: 100%|██████████| 1/1 [00:02<00:00,  2.72s/it]\n"
     ]
    },
    {
     "data": {
      "text/plain": [
       "'The question does not mention anything about imposing a fine specifically for labeling a drug with the words \"Physician Sample - Not for Sale\". However, I can provide some general information.\\n\\nAccording to Rule 6(a) of the Punjab-Drug-Sale-Rules, any person who sells or offers to sell without a licence is punishable with imprisonment for a term which may extend to three years and fine which may extend to twenty-five thousand rupees.'"
      ]
     },
     "execution_count": 74,
     "metadata": {},
     "output_type": "execute_result"
    }
   ],
   "source": [
    "chat(\"What fine is imposed for selling a drug labeled as “Physician Sample – Not for Sale”?\")"
   ]
  },
  {
   "cell_type": "markdown",
   "metadata": {},
   "source": [
    "The question does not mention anything about imposing a fine specifically for labeling a drug with the words \"Physician Sample - Not for Sale\". However, I can provide some general information.\n",
    "\n",
    "According to Rule 6(a) of the Punjab-Drug-Sale-Rules, any person who sells or offers to sell without a licence is punishable with imprisonment for a term which may extend to three years and fine which may extend to twenty-five thousand rupees."
   ]
  },
  {
   "cell_type": "markdown",
   "metadata": {},
   "source": [
    "*Question 5*"
   ]
  },
  {
   "cell_type": "code",
   "execution_count": 75,
   "metadata": {},
   "outputs": [
    {
     "name": "stderr",
     "output_type": "stream",
     "text": [
      "OllamaEmbeddings: 100%|██████████| 1/1 [00:02<00:00,  2.76s/it]\n",
      "OllamaEmbeddings: 100%|██████████| 1/1 [00:02<00:00,  2.92s/it]\n",
      "OllamaEmbeddings: 100%|██████████| 1/1 [00:02<00:00,  2.51s/it]\n"
     ]
    },
    {
     "data": {
      "text/plain": [
       "'According to the text, the prerequisites for obtaining a license to open and operate a pharmacy or medical store in Pakistan are:\\n\\n1. The applicant must submit an application in Form 8(A) or Form 8(B) along with the required fee.\\n2. The fee for a pharmacy license is Rs. 3,000, and for a medical store license, it is Rs. 2,000 (for new applications).\\n3. For renewal of licenses:\\n\\t* Pharmacy license: Rs. 1,000\\n\\t* Medical store license: Rs. 1,000\\n4. The applicant must pay 50% of the fee for changing the qualified person or obtaining a duplicate copy of the license.\\n5. The licensing authority may refuse an application if it is not expedient in public interest to grant a license.\\n\\nAdditionally, the following conditions must be met:\\n\\n* The applicant must meet the storage conditions and store the drugs properly (for medical stores).\\n* If the applicant intends to sell or distribute drugs at more than one place, they must apply for separate licenses for each location.'"
      ]
     },
     "execution_count": 75,
     "metadata": {},
     "output_type": "execute_result"
    }
   ],
   "source": [
    "chat(\"What are the prerequisites for obtaining a license to open and operate a pharmacy or medical store?\")"
   ]
  },
  {
   "cell_type": "markdown",
   "metadata": {},
   "source": [
    "According to the text, the prerequisites for obtaining a license to open and operate a pharmacy or medical store in Pakistan are:\n",
    "\n",
    "1. The applicant must submit an application in Form 8(A) or Form 8(B) along with the required fee.\n",
    "2. The fee for a pharmacy license is Rs. 3,000, and for a medical store license, it is Rs. 2,000 (for new applications).\n",
    "3. For renewal of licenses:\n",
    "\n",
    "* Pharmacy license: Rs. 1,000\n",
    "* Medical store license: Rs. 1,000\n",
    "\n",
    "4. The applicant must pay 50% of the fee for changing the qualified person or obtaining a duplicate copy of the license.\n",
    "5. The licensing authority may refuse an application if it is not expedient in public interest to grant a license\n",
    "\n",
    "Additionally, the following conditions must be met:\n",
    "\n",
    "* The applicant must meet the storage conditions and store the drugs properly (for medical stores).\n",
    "\n",
    "If the applicant intends to sell or distribute drugs at more than one place, they must apply for separate licenses for each location."
   ]
  },
  {
   "cell_type": "markdown",
   "metadata": {},
   "source": [
    "#### Experimenting With Different Retriever Methods"
   ]
  },
  {
   "cell_type": "markdown",
   "metadata": {},
   "source": [
    "**BM25 Retriever**"
   ]
  },
  {
   "cell_type": "code",
   "execution_count": 76,
   "metadata": {},
   "outputs": [],
   "source": [
    "texts = [doc.page_content for doc in chunks]\n",
    "\n",
    "bm25 = BM25Retriever.from_texts(texts)\n",
    "\n",
    "bm25_retriever = MultiQueryRetriever.from_llm(\n",
    "    bm25,\n",
    "    llm,\n",
    "    prompt = QUERY_PROMPT\n",
    ")\n",
    "\n",
    "chain = (\n",
    "    {\"context\": bm25_retriever, \"question\": RunnablePassthrough()}\n",
    "    | prompt\n",
    "    | llm\n",
    "    | StrOutputParser()\n",
    ")"
   ]
  },
  {
   "cell_type": "markdown",
   "metadata": {},
   "source": [
    "*Question 1*"
   ]
  },
  {
   "cell_type": "code",
   "execution_count": 77,
   "metadata": {},
   "outputs": [
    {
     "data": {
      "text/plain": [
       "\"The provided text does not mention anything about obstructing an officer during an investigation or its related legal consequences. It appears to be a document providing guidelines for reporting Adverse Events (AEs) and Adverse Reactions to Medicinal Products (ARMPs) through a mobile application, specifically Med Safety.\\n\\nHowever, if you're looking for general information on the legal consequences of obstructing an officer during an investigation, it can vary depending on the jurisdiction and specific circumstances. In many places, obstructing an officer or interfering with their duties can be considered a crime, such as:\\n\\n1. Obstruction of Justice: This is a federal offense in some countries that carries penalties such as fines, imprisonment, or both.\\n2. Interference with Law Enforcement: Some jurisdictions consider this a crime, punishable by law, and may result in fines or prison time.\\n3. Resisting Arrest: If an individual resists arrest or attempts to flee from the scene, they may be charged with resisting arrest.\\n\\nThe specific penalties can range widely depending on the jurisdiction, circumstances, and the severity of the offense.\""
      ]
     },
     "execution_count": 77,
     "metadata": {},
     "output_type": "execute_result"
    }
   ],
   "source": [
    "chat(\"What are the legal consequences for obstructing an officer during an investigation?\")"
   ]
  },
  {
   "cell_type": "markdown",
   "metadata": {},
   "source": [
    "The provided text does not mention anything about obstructing an officer during an investigation or its related legal consequences. It appears to be a document providing guidelines for reporting Adverse Events (AEs) and Adverse Reactions to Medicinal Products (ARMPs) through a mobile application, specifically Med Safety.\n",
    "\n",
    "However, if you're looking for general information on the legal consequences of obstructing an officer during an investigation, it can vary depending on the jurisdiction and specific circumstances. In many places, obstructing an officer or interfering with their duties can be considered a crime, such as:\n",
    "\n",
    "1. Obstruction of Justice: This is a federal offense in some countries that carries penalties such as fines, imprisonment, or both.\n",
    "2. Interference with Law Enforcement: Some jurisdictions consider this a crime, punishable by law, and may result in fines or prison time.\\n3. Resisting Arrest: If an individual resists arrest or attempts to flee from the scene, they may be charged with resisting arrest.\n",
    "\n",
    "The specific penalties can range widely depending on the jurisdiction, circumstances, and the severity of the offense."
   ]
  },
  {
   "cell_type": "markdown",
   "metadata": {},
   "source": [
    "*Question 2*"
   ]
  },
  {
   "cell_type": "code",
   "execution_count": 78,
   "metadata": {},
   "outputs": [
    {
     "data": {
      "text/plain": [
       "\"According to the provided text snippet, there is no explicit mention of a specific penalty for exporting, importing, manufacturing, or selling spurious or unregistered drugs. However, the text does mention that the Authority may engage in regulating, enforcing, and monitoring advertisement rules and banning false advertisements.\\n\\nIn general, the regulations regarding the sale and distribution of pharmaceuticals, including penalties for spurious or unregistered drugs, are typically outlined by government agencies such as the Food and Drug Administration (FDA) or equivalent bodies in other countries. These regulations can vary depending on the jurisdiction, but they often include provisions for severe penalties for those involved in the unauthorized manufacture, sale, or distribution of pharmaceuticals.\\n\\nSome possible penalties for exporting, importing, manufacturing, or selling spurious or unregistered drugs could include:\\n\\n*   Fines and monetary penalties\\n*   Imprisonment or imprisonment terms\\n*   Revocation of licenses to manufacture or sell pharmaceuticals\\n*   Forfeiture of assets or profits derived from the sale of spurious or unregistered drugs\\n\\nIt's essential to consult specific laws, regulations, or guidelines in a particular country or region for accurate information on penalties related to the sale or distribution of spurious or unregistered drugs.\""
      ]
     },
     "execution_count": 78,
     "metadata": {},
     "output_type": "execute_result"
    }
   ],
   "source": [
    "chat(\"What is the penalty for exporting, importing, manufacturing, or selling spurious or unregistered drugs?\")"
   ]
  },
  {
   "cell_type": "markdown",
   "metadata": {},
   "source": [
    "According to the provided text snippet, there is no explicit mention of a specific penalty for exporting, importing, manufacturing, or selling spurious or unregistered drugs. However, the text does mention that the Authority may engage in regulating, enforcing, and monitoring advertisement rules and banning false advertisements.\n",
    "\n",
    "In general, the regulations regarding the sale and distribution of pharmaceuticals, including penalties for spurious or unregistered drugs, are typically outlined by government agencies such as the Food and Drug Administration (FDA) or equivalent bodies in other countries. These regulations can vary depending on the jurisdiction, but they often include provisions for severe penalties for those involved in the unauthorized manufacture, sale, or distribution of pharmaceuticals.\n",
    "\n",
    "Some possible penalties for exporting, importing, manufacturing, or selling spurious or unregistered drugs could include:\n",
    "\n",
    "*   Fines and monetary penalties\n",
    "*   Imprisonment or imprisonment terms\n",
    "*   Revocation of licenses to manufacture or sell pharmaceuticals\n",
    "*   Forfeiture of assets or profits derived from the sale of spurious or unregistered drugs\n",
    "\n",
    "It's essential to consult specific laws, regulations, or guidelines in a particular country or region for accurate information on penalties related to the sale or distribution of spurious or unregistered drugs."
   ]
  },
  {
   "cell_type": "markdown",
   "metadata": {},
   "source": [
    "*Question 3*"
   ]
  },
  {
   "cell_type": "code",
   "execution_count": 79,
   "metadata": {},
   "outputs": [
    {
     "data": {
      "text/plain": [
       "'The question is not explicitly stated in the text, but based on the context of the Adverse Events Reporting Guidelines for Healthcare Professionals, it can be inferred that the answer refers to therapeutic goods.\\n\\nAccording to the guidelines, there is no specific mention of \"drugs\" being restricted to sale only with a prescription from a registered medical practitioner. However, section 7.1.2 mentions that products which are classified as Class A or Class B under the Drugs and Medicines Ordinance (DMO) should not be sold without a valid prescription.\\n\\nIn Pakistan, Class A and Class B drugs are typically those that require a prescription for sale due to their potential for abuse, dependency, or other safety concerns. Examples of such drugs might include controlled substances, such as opioids or sedatives, as well as certain medications used to treat psychiatric disorders or addictive diseases.\\n\\nExamples of such restricted drugs in Pakistan would include:\\n\\n* Opioids (e.g., morphine, oxycodone)\\n* Benzodiazepines (e.g., diazepam, alprazolam)\\n* Stimulants (e.g., amphetamines, methylphenidate)\\n* Certain psychiatric medications (e.g., risperidone, aripiprazole)\\n\\nPlease note that this is not an exhaustive list, and the specific drugs restricted to sale only with a prescription from a registered medical practitioner may vary depending on local regulations and guidelines.'"
      ]
     },
     "execution_count": 79,
     "metadata": {},
     "output_type": "execute_result"
    }
   ],
   "source": [
    "chat(\"Which drugs are restricted to sale only with a prescription from a registered medical practitioner?\")"
   ]
  },
  {
   "cell_type": "markdown",
   "metadata": {},
   "source": [
    "The question is not explicitly stated in the text, but based on the context of the Adverse Events Reporting Guidelines for Healthcare Professionals, it can be inferred that the answer refers to therapeutic goods.\n",
    "\n",
    "According to the guidelines, there is no specific mention of \"drugs\" being restricted to sale only with a prescription from a registered medical practitioner. However, section 7.1.2 mentions that products which are classified as Class A or Class B under the Drugs and Medicines Ordinance (DMO) should not be sold without a valid prescription.\n",
    "\n",
    "In Pakistan, Class A and Class B drugs are typically those that require a prescription for sale due to their potential for abuse, dependency, or other safety concerns. Examples of such drugs might include controlled substances, such as opioids or sedatives, as well as certain medications used to treat psychiatric disorders or addictive diseases.\n",
    "\n",
    "Examples of such restricted drugs in Pakistan would include:\n",
    "\n",
    "* Opioids (e.g., morphine, oxycodone)* Benzodiazepines (e.g., diazepam, alprazolam)\n",
    "* Stimulants (e.g., amphetamines, methylphenidate)\n",
    "* Certain psychiatric medications (e.g., risperidone, aripiprazole)\n",
    "\n",
    "Please note that this is not an exhaustive list, and the specific drugs restricted to sale only with a prescription from a registered medical practitioner may vary depending on local regulations and guidelines."
   ]
  },
  {
   "cell_type": "markdown",
   "metadata": {},
   "source": [
    "*Question 4*"
   ]
  },
  {
   "cell_type": "code",
   "execution_count": 80,
   "metadata": {},
   "outputs": [
    {
     "data": {
      "text/plain": [
       "'The text does not provide information on the fine imposed for selling a drug labeled as \"Physician Sample – Not for Sale\". However, I can tell you that according to the DRA Guidelines, selling a drug labeled as \"Physician Sample – Not for Sale\" is considered an offense and is punishable under the law. The exact penalty or fine imposed would depend on the specific circumstances and the laws in place at the time of the incident.'"
      ]
     },
     "execution_count": 80,
     "metadata": {},
     "output_type": "execute_result"
    }
   ],
   "source": [
    "chat(\"What fine is imposed for selling a drug labeled as “Physician Sample – Not for Sale”?\")"
   ]
  },
  {
   "cell_type": "markdown",
   "metadata": {},
   "source": [
    "The text does not provide information on the fine imposed for selling a drug labeled as \"Physician Sample – Not for Sale\". However, I can tell you that according to the DRA Guidelines, selling a drug labeled as \"Physician Sample – Not for Sale\" is considered an offense and is punishable under the law. The exact penalty or fine imposed would depend on the specific circumstances and the laws in place at the time of the incident."
   ]
  },
  {
   "cell_type": "markdown",
   "metadata": {},
   "source": [
    "*Question 5*"
   ]
  },
  {
   "cell_type": "code",
   "execution_count": 81,
   "metadata": {},
   "outputs": [
    {
     "data": {
      "text/plain": [
       "\"Unfortunately, this text does not appear to be related to the prerequisites for opening and operating a pharmacy or medical store. The text seems to be a pharmaceutical regulatory guideline document, specifically a set of guidelines for regulatory appeals.\\n\\nHowever, I can try to provide some general information on the typical prerequisites for obtaining a license to open and operate a pharmacy or medical store.\\n\\nIn most countries, the prerequisites for opening and operating a pharmacy or medical store typically include:\\n\\n1. Obtaining a pharmacy license or medical store registration from the relevant authorities.\\n2. Completing a training program or apprenticeship in pharmacy or medicine.\\n3. Passing a licensing examination to demonstrate proficiency in pharmacy or medical knowledge.\\n4. Meeting specific requirements related to education, experience, and character.\\n5. Having a valid business license and tax identification number.\\n\\nPlease note that these prerequisites may vary depending on the country, state, or region where you plan to open your pharmacy or medical store. It's essential to check with the relevant authorities for specific requirements and regulations.\""
      ]
     },
     "execution_count": 81,
     "metadata": {},
     "output_type": "execute_result"
    }
   ],
   "source": [
    "chat(\"What are the prerequisites for obtaining a license to open and operate a pharmacy or medical store?\")"
   ]
  },
  {
   "cell_type": "markdown",
   "metadata": {},
   "source": [
    "Unfortunately, this text does not appear to be related to the prerequisites for opening and operating a pharmacy or medical store. The text seems to be a pharmaceutical regulatory guideline document, specifically a set of guidelines for regulatory appeals.\n",
    "\n",
    "However, I can try to provide some general information on the typical prerequisites for obtaining a license to open and operate a pharmacy or medical store.\n",
    "\n",
    "In most countries, the prerequisites for opening and operating a pharmacy or medical store typically include:\n",
    "\n",
    "1. Obtaining a pharmacy license or medical store registration from the relevant authorities.\n",
    "2. Completing a training program or apprenticeship in pharmacy or medicine.\n",
    "3. Passing a licensing examination to demonstrate proficiency in pharmacy or medical knowledge.\n",
    "4. Meeting specific requirements related to education, experience, and character.\n",
    "5. Having a valid business license and tax identification number.\n",
    "\n",
    "Please note that these prerequisites may vary depending on the country, state, or region where you plan to open your pharmacy or medical store. It's essential to check with the relevant authorities for specific requirements and regulations."
   ]
  },
  {
   "cell_type": "markdown",
   "metadata": {},
   "source": [
    "**Ensemble Retriever**"
   ]
  },
  {
   "cell_type": "code",
   "execution_count": 82,
   "metadata": {},
   "outputs": [],
   "source": [
    "ensemble_retriever = EnsembleRetriever(\n",
    "    retrievers = [bm25_retriever, retriever], weights = [0.5, 0.5]\n",
    ")\n",
    "\n",
    "chain = (\n",
    "    {\"context\": ensemble_retriever, \"question\": RunnablePassthrough()}\n",
    "    | prompt\n",
    "    | llm\n",
    "    | StrOutputParser()\n",
    ")"
   ]
  },
  {
   "cell_type": "markdown",
   "metadata": {},
   "source": [
    "*Question 1*"
   ]
  },
  {
   "cell_type": "code",
   "execution_count": 83,
   "metadata": {},
   "outputs": [
    {
     "name": "stderr",
     "output_type": "stream",
     "text": [
      "OllamaEmbeddings: 100%|██████████| 1/1 [00:06<00:00,  6.78s/it]\n",
      "OllamaEmbeddings: 100%|██████████| 1/1 [00:02<00:00,  2.74s/it]\n",
      "OllamaEmbeddings: 100%|██████████| 1/1 [00:02<00:00,  2.42s/it]\n"
     ]
    },
    {
     "data": {
      "text/plain": [
       "\"The text provided does not specifically mention the legal consequences for obstructing an officer during an investigation. However, I can provide general information on this topic.\\n\\nObstructing an officer during an investigation is considered a serious offense in many jurisdictions and can result in various legal consequences. The specific penalties may vary depending on the jurisdiction, the severity of the obstruction, and other factors.\\n\\nIn some cases, obstructing an officer during an investigation may be charged as a misdemeanor or felony offense, and can carry penalties such as:\\n\\n*   Fines\\n*   Imprisonment (including short-term or extended sentences)\\n*   Probation\\n*   Community service\\n\\nAdditionally, in some jurisdictions, obstructing an officer during an investigation may also result in additional consequences, such as:\\n\\n*   Suspension of driver's license\\n*   Revocation of professional licenses\\n*   Mandatory attendance at a court-ordered anger management program or other treatment programs\\n*   Restitution to the victim(s)\\n\\nIt is essential to note that these are general examples and the specific penalties may vary depending on the jurisdiction, the severity of the obstruction, and other factors.\\n\\nIf you have concerns about obstructing an officer during an investigation, I recommend consulting with a qualified attorney or law enforcement professional for guidance.\""
      ]
     },
     "execution_count": 83,
     "metadata": {},
     "output_type": "execute_result"
    }
   ],
   "source": [
    "chat(\"What are the legal consequences for obstructing an officer during an investigation?\")"
   ]
  },
  {
   "cell_type": "markdown",
   "metadata": {},
   "source": [
    "The text provided does not specifically mention the legal consequences for obstructing an officer during an investigation. However, I can provide general information on this topic.\n",
    "\n",
    "Obstructing an officer during an investigation is considered a serious offense in many jurisdictions and can result in various legal consequences. The specific penalties may vary depending on the jurisdiction, the severity of the obstruction, and other factors.\n",
    "\n",
    "In some cases, obstructing an officer during an investigation may be charged as a misdemeanor or felony offense, and can carry penalties such as:\n",
    "*   Fines\n",
    "*   Imprisonment (including short-term or extended sentences)\n",
    "*   Probation\n",
    "*   Community service\n",
    "\n",
    "Additionally, in some jurisdictions, obstructing an officer during an investigation may also result in additional consequences, such as:\n",
    "\n",
    "*   Suspension of driver's license\n",
    "*   Revocation of professional licenses\n",
    "*   Mandatory attendance at a court-ordered anger management program or other treatment programs\n",
    "*   Restitution to the victim(s)\n",
    "\n",
    "It is essential to note that these are general examples and the specific penalties may vary depending on the jurisdiction, the severity of the obstruction, and other factors.\n",
    "\n",
    "If you have concerns about obstructing an officer during an investigation, I recommend consulting with a qualified attorney or law enforcement professional for guidance."
   ]
  },
  {
   "cell_type": "markdown",
   "metadata": {},
   "source": [
    "*Question 2*"
   ]
  },
  {
   "cell_type": "code",
   "execution_count": 84,
   "metadata": {},
   "outputs": [
    {
     "name": "stderr",
     "output_type": "stream",
     "text": [
      "OllamaEmbeddings: 100%|██████████| 1/1 [00:02<00:00,  2.64s/it]\n",
      "OllamaEmbeddings: 100%|██████████| 1/1 [00:02<00:00,  2.28s/it]\n",
      "OllamaEmbeddings: 100%|██████████| 1/1 [00:02<00:00,  2.45s/it]\n"
     ]
    },
    {
     "data": {
      "text/plain": [
       "'The text does not specifically mention a penalty for exporting, importing, manufacturing, or selling spurious or unregistered drugs. However, it mentions that \"each company shall provide a detailed summary of all expenditures incurred on institutions or healthcare professionals on account of marketing, honoraria, travel, subsistence expenses, grants and any other related financial transaction\" to the relevant tax authorities and the Authority.\\n\\nIt is likely that exporting, importing, manufacturing, or selling spurious or unregistered drugs would be considered a breach of the rules and could result in penalties, but the specific penalty is not mentioned in this text.'"
      ]
     },
     "execution_count": 84,
     "metadata": {},
     "output_type": "execute_result"
    }
   ],
   "source": [
    "chat(\"What is the penalty for exporting, importing, manufacturing, or selling spurious or unregistered drugs?\")"
   ]
  },
  {
   "cell_type": "markdown",
   "metadata": {},
   "source": [
    "The text does not specifically mention a penalty for exporting, importing, manufacturing, or selling spurious or unregistered drugs. However, it mentions that \"each company shall provide a detailed summary of all expenditures incurred on institutions or healthcare professionals on account of marketing, honoraria, travel, subsistence expenses, grants and any other related financial transaction\" to the relevant tax authorities and the Authority.\n",
    "\n",
    "It is likely that exporting, importing, manufacturing, or selling spurious or unregistered drugs would be considered a breach of the rules and could result in penalties, but the specific penalty is not mentioned in this text."
   ]
  },
  {
   "cell_type": "markdown",
   "metadata": {},
   "source": [
    "*Question 3*"
   ]
  },
  {
   "cell_type": "code",
   "execution_count": 85,
   "metadata": {},
   "outputs": [
    {
     "name": "stderr",
     "output_type": "stream",
     "text": [
      "OllamaEmbeddings: 100%|██████████| 1/1 [00:02<00:00,  2.55s/it]\n",
      "OllamaEmbeddings: 100%|██████████| 1/1 [00:02<00:00,  2.38s/it]\n",
      "OllamaEmbeddings: 100%|██████████| 1/1 [00:02<00:00,  2.41s/it]\n"
     ]
    },
    {
     "data": {
      "text/plain": [
       "'According to the provided text, High Alert Medication is restricted to sale only with a prescription from a registered medical practitioner.'"
      ]
     },
     "execution_count": 85,
     "metadata": {},
     "output_type": "execute_result"
    }
   ],
   "source": [
    "chat(\"Which drugs are restricted to sale only with a prescription from a registered medical practitioner?\")"
   ]
  },
  {
   "cell_type": "markdown",
   "metadata": {},
   "source": [
    "According to the provided text, High Alert Medication is restricted to sale only with a prescription from a registered medical practitioner."
   ]
  },
  {
   "cell_type": "markdown",
   "metadata": {},
   "source": [
    "*Question 4*"
   ]
  },
  {
   "cell_type": "code",
   "execution_count": 86,
   "metadata": {},
   "outputs": [
    {
     "name": "stderr",
     "output_type": "stream",
     "text": [
      "OllamaEmbeddings: 100%|██████████| 1/1 [00:02<00:00,  2.31s/it]\n",
      "OllamaEmbeddings: 100%|██████████| 1/1 [00:02<00:00,  2.46s/it]\n",
      "OllamaEmbeddings: 100%|██████████| 1/1 [00:02<00:00,  2.42s/it]\n"
     ]
    },
    {
     "data": {
      "text/plain": [
       "'The question does not mention the imposition of a fine, but rather asks about the label on a sample of a drug. According to the rules, a sample of a drug may be provided to physicians or dentists or pharmacists or veterinarians or medical institutions in reasonable quantities and in reduced packings marked with the words \"Physician Sample - Not for Sale\".'"
      ]
     },
     "execution_count": 86,
     "metadata": {},
     "output_type": "execute_result"
    }
   ],
   "source": [
    "chat(\"What fine is imposed for selling a drug labeled as “Physician Sample – Not for Sale”?\")"
   ]
  },
  {
   "cell_type": "markdown",
   "metadata": {},
   "source": [
    "The question does not mention the imposition of a fine, but rather asks about the label on a sample of a drug. According to the rules, a sample of a drug may be provided to physicians or dentists or pharmacists or veterinarians or medical institutions in reasonable quantities and in reduced packings marked with the words \"Physician Sample - Not for Sale\"."
   ]
  },
  {
   "cell_type": "markdown",
   "metadata": {},
   "source": [
    "*Question 5*"
   ]
  },
  {
   "cell_type": "code",
   "execution_count": 87,
   "metadata": {},
   "outputs": [
    {
     "name": "stderr",
     "output_type": "stream",
     "text": [
      "OllamaEmbeddings: 100%|██████████| 1/1 [00:02<00:00,  2.52s/it]\n",
      "OllamaEmbeddings: 100%|██████████| 1/1 [00:02<00:00,  2.38s/it]\n",
      "OllamaEmbeddings: 100%|██████████| 1/1 [00:02<00:00,  2.35s/it]\n"
     ]
    },
    {
     "data": {
      "text/plain": [
       "'According to the rules mentioned in the text, the prerequisites for obtaining a license to open and operate a pharmacy or medical store include:\\n\\n1. The pharmacy or medical store must be registered with the relevant authorities.\\n2. The premises where the pharmacy or medical store is located must meet certain requirements, such as having proper infrastructure, facilities, and working conditions.\\n3. The licensee (the person or entity applying for the license) must have a valid prescription from a licensed medical practitioner.\\n4. The licensee must provide proof of qualifications, experience, and character to the licensing authority.\\n5. The pharmacy or medical store must comply with all relevant laws, regulations, and rules governing the sale and dispensing of pharmaceuticals and other medicinal products.\\n\\nAdditionally, certain documents such as an invoice and warranty shall bear the full name and address of the purchaser and shall be signed by the warrantor clearly indicating his name and shall be dated. The manufacturer, importer or seller of a drug must maintain record of purchase or sale of a drug and preserve the record for at least three years containing the required particulars.\\n\\nIt is also mentioned that certain substances specified in Schedule E and listed poisons should be stored in a specific manner to prevent leakage arising from ordinary risks of handling and transport.'"
      ]
     },
     "execution_count": 87,
     "metadata": {},
     "output_type": "execute_result"
    }
   ],
   "source": [
    "chat(\"What are the prerequisites for obtaining a license to open and operate a pharmacy or medical store?\")"
   ]
  },
  {
   "cell_type": "markdown",
   "metadata": {},
   "source": [
    "According to the rules mentioned in the text, the prerequisites for obtaining a license to open and operate a pharmacy or medical store include:\n",
    "\n",
    "1. The pharmacy or medical store must be registered with the relevant authorities.\n",
    "2. The premises where the pharmacy or medical store is located must meet certain requirements, such as having proper infrastructure, facilities, and working conditions.\n",
    "3. The licensee (the person or entity applying for the license) must have a valid prescription from a licensed medical practitioner.\n",
    "4. The licensee must provide proof of qualifications, experience, and character to the licensing authority.\n",
    "5. The pharmacy or medical store must comply with all relevant laws, regulations, and rules governing the sale and dispensing of pharmaceuticals and other medicinal products.\n",
    "\n",
    "Additionally, certain documents such as an invoice and warranty shall bear the full name and address of the purchaser and shall be signed by the warrantor clearly indicating his name and shall be dated. The manufacturer, importer or seller of a drug must maintain record of purchase or sale of a drug and preserve the record for at least three years containing the required particulars.\n",
    "\n",
    "It is also mentioned that certain substances specified in Schedule E and listed poisons should be stored in a specific manner to prevent leakage arising from ordinary risks of handling and transport."
   ]
  }
 ],
 "metadata": {
  "kernelspec": {
   "display_name": "venv",
   "language": "python",
   "name": "python3"
  },
  "language_info": {
   "codemirror_mode": {
    "name": "ipython",
    "version": 3
   },
   "file_extension": ".py",
   "mimetype": "text/x-python",
   "name": "python",
   "nbconvert_exporter": "python",
   "pygments_lexer": "ipython3",
   "version": "3.12.7"
  }
 },
 "nbformat": 4,
 "nbformat_minor": 2
}
